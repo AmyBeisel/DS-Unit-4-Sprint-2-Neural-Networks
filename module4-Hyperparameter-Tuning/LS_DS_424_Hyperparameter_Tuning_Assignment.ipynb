{
  "nbformat": 4,
  "nbformat_minor": 0,
  "metadata": {
    "colab": {
      "name": "LS_DS_424_Hyperparameter_Tuning_Assignment.ipynb",
      "provenance": [],
      "include_colab_link": true
    },
    "kernelspec": {
      "display_name": "Python 3",
      "language": "python",
      "name": "python3"
    },
    "language_info": {
      "codemirror_mode": {
        "name": "ipython",
        "version": 3
      },
      "file_extension": ".py",
      "mimetype": "text/x-python",
      "name": "python",
      "nbconvert_exporter": "python",
      "pygments_lexer": "ipython3",
      "version": "3.7.4"
    },
    "accelerator": "GPU"
  },
  "cells": [
    {
      "cell_type": "markdown",
      "metadata": {
        "id": "view-in-github",
        "colab_type": "text"
      },
      "source": [
        "<a href=\"https://colab.research.google.com/github/AmyBeisel/DS-Unit-4-Sprint-2-Neural-Networks/blob/master/module4-Hyperparameter-Tuning/LS_DS_424_Hyperparameter_Tuning_Assignment.ipynb\" target=\"_parent\"><img src=\"https://colab.research.google.com/assets/colab-badge.svg\" alt=\"Open In Colab\"/></a>"
      ]
    },
    {
      "cell_type": "markdown",
      "metadata": {
        "colab_type": "text",
        "id": "9Ryp-TVm4njD"
      },
      "source": [
        "<img align=\"left\" src=\"https://lever-client-logos.s3.amazonaws.com/864372b1-534c-480e-acd5-9711f850815c-1524247202159.png\" width=200>\n",
        "<br></br>\n",
        "\n",
        "# Hyperparameter Tuning\n",
        "\n",
        "## *Data Science Unit 4 Sprint 2 Assignment 4*\n",
        "\n",
        "## Your Mission, should you choose to accept it...\n",
        "\n",
        "To hyperparameter tune and extract every ounce of accuracy out of this telecom customer churn dataset: [Available Here](https://lambdaschool-data-science.s3.amazonaws.com/telco-churn/WA_Fn-UseC_-Telco-Customer-Churn+(1).csv)\n",
        "\n",
        "## Requirements\n",
        "\n",
        "- Load the data\n",
        "- Clean the data if necessary (it will be)\n",
        "- Create and fit a baseline Keras MLP model to the data.\n",
        "- Hyperparameter tune (at least) the following parameters:\n",
        " - batch_size\n",
        " - training epochs\n",
        " - optimizer\n",
        " - learning rate (if applicable to optimizer)\n",
        " - momentum (if applicable to optimizer)\n",
        " - activation functions\n",
        " - network weight initialization\n",
        " - dropout regularization\n",
        " - number of neurons in the hidden layer\n",
        " \n",
        " You must use Grid Search and Cross Validation for your initial pass of the above hyperparameters\n",
        " \n",
        " Try and get the maximum accuracy possible out of this data! You'll save big telecoms millions! Doesn't that sound great?\n"
      ]
    },
    {
      "cell_type": "code",
      "metadata": {
        "colab_type": "code",
        "id": "NNJ-tOBs4jM1",
        "colab": {
          "base_uri": "https://localhost:8080/",
          "height": 322
        },
        "outputId": "fe1d8b09-764d-452b-a93a-159e089c215a"
      },
      "source": [
        "##### Your Code Here #####\n",
        "# Load the data\n",
        "import pandas as pd\n",
        "df = pd.read_csv('WA_Fn-UseC_-Telco-Customer-Churn+(1).csv')\n",
        "print(df.shape)\n",
        "df.head()"
      ],
      "execution_count": 1,
      "outputs": [
        {
          "output_type": "stream",
          "text": [
            "(7043, 21)\n"
          ],
          "name": "stdout"
        },
        {
          "output_type": "execute_result",
          "data": {
            "text/html": [
              "<div>\n",
              "<style scoped>\n",
              "    .dataframe tbody tr th:only-of-type {\n",
              "        vertical-align: middle;\n",
              "    }\n",
              "\n",
              "    .dataframe tbody tr th {\n",
              "        vertical-align: top;\n",
              "    }\n",
              "\n",
              "    .dataframe thead th {\n",
              "        text-align: right;\n",
              "    }\n",
              "</style>\n",
              "<table border=\"1\" class=\"dataframe\">\n",
              "  <thead>\n",
              "    <tr style=\"text-align: right;\">\n",
              "      <th></th>\n",
              "      <th>customerID</th>\n",
              "      <th>gender</th>\n",
              "      <th>SeniorCitizen</th>\n",
              "      <th>Partner</th>\n",
              "      <th>Dependents</th>\n",
              "      <th>tenure</th>\n",
              "      <th>PhoneService</th>\n",
              "      <th>MultipleLines</th>\n",
              "      <th>InternetService</th>\n",
              "      <th>OnlineSecurity</th>\n",
              "      <th>OnlineBackup</th>\n",
              "      <th>DeviceProtection</th>\n",
              "      <th>TechSupport</th>\n",
              "      <th>StreamingTV</th>\n",
              "      <th>StreamingMovies</th>\n",
              "      <th>Contract</th>\n",
              "      <th>PaperlessBilling</th>\n",
              "      <th>PaymentMethod</th>\n",
              "      <th>MonthlyCharges</th>\n",
              "      <th>TotalCharges</th>\n",
              "      <th>Churn</th>\n",
              "    </tr>\n",
              "  </thead>\n",
              "  <tbody>\n",
              "    <tr>\n",
              "      <th>0</th>\n",
              "      <td>7590-VHVEG</td>\n",
              "      <td>Female</td>\n",
              "      <td>0</td>\n",
              "      <td>Yes</td>\n",
              "      <td>No</td>\n",
              "      <td>1</td>\n",
              "      <td>No</td>\n",
              "      <td>No phone service</td>\n",
              "      <td>DSL</td>\n",
              "      <td>No</td>\n",
              "      <td>Yes</td>\n",
              "      <td>No</td>\n",
              "      <td>No</td>\n",
              "      <td>No</td>\n",
              "      <td>No</td>\n",
              "      <td>Month-to-month</td>\n",
              "      <td>Yes</td>\n",
              "      <td>Electronic check</td>\n",
              "      <td>29.85</td>\n",
              "      <td>29.85</td>\n",
              "      <td>No</td>\n",
              "    </tr>\n",
              "    <tr>\n",
              "      <th>1</th>\n",
              "      <td>5575-GNVDE</td>\n",
              "      <td>Male</td>\n",
              "      <td>0</td>\n",
              "      <td>No</td>\n",
              "      <td>No</td>\n",
              "      <td>34</td>\n",
              "      <td>Yes</td>\n",
              "      <td>No</td>\n",
              "      <td>DSL</td>\n",
              "      <td>Yes</td>\n",
              "      <td>No</td>\n",
              "      <td>Yes</td>\n",
              "      <td>No</td>\n",
              "      <td>No</td>\n",
              "      <td>No</td>\n",
              "      <td>One year</td>\n",
              "      <td>No</td>\n",
              "      <td>Mailed check</td>\n",
              "      <td>56.95</td>\n",
              "      <td>1889.5</td>\n",
              "      <td>No</td>\n",
              "    </tr>\n",
              "    <tr>\n",
              "      <th>2</th>\n",
              "      <td>3668-QPYBK</td>\n",
              "      <td>Male</td>\n",
              "      <td>0</td>\n",
              "      <td>No</td>\n",
              "      <td>No</td>\n",
              "      <td>2</td>\n",
              "      <td>Yes</td>\n",
              "      <td>No</td>\n",
              "      <td>DSL</td>\n",
              "      <td>Yes</td>\n",
              "      <td>Yes</td>\n",
              "      <td>No</td>\n",
              "      <td>No</td>\n",
              "      <td>No</td>\n",
              "      <td>No</td>\n",
              "      <td>Month-to-month</td>\n",
              "      <td>Yes</td>\n",
              "      <td>Mailed check</td>\n",
              "      <td>53.85</td>\n",
              "      <td>108.15</td>\n",
              "      <td>Yes</td>\n",
              "    </tr>\n",
              "    <tr>\n",
              "      <th>3</th>\n",
              "      <td>7795-CFOCW</td>\n",
              "      <td>Male</td>\n",
              "      <td>0</td>\n",
              "      <td>No</td>\n",
              "      <td>No</td>\n",
              "      <td>45</td>\n",
              "      <td>No</td>\n",
              "      <td>No phone service</td>\n",
              "      <td>DSL</td>\n",
              "      <td>Yes</td>\n",
              "      <td>No</td>\n",
              "      <td>Yes</td>\n",
              "      <td>Yes</td>\n",
              "      <td>No</td>\n",
              "      <td>No</td>\n",
              "      <td>One year</td>\n",
              "      <td>No</td>\n",
              "      <td>Bank transfer (automatic)</td>\n",
              "      <td>42.30</td>\n",
              "      <td>1840.75</td>\n",
              "      <td>No</td>\n",
              "    </tr>\n",
              "    <tr>\n",
              "      <th>4</th>\n",
              "      <td>9237-HQITU</td>\n",
              "      <td>Female</td>\n",
              "      <td>0</td>\n",
              "      <td>No</td>\n",
              "      <td>No</td>\n",
              "      <td>2</td>\n",
              "      <td>Yes</td>\n",
              "      <td>No</td>\n",
              "      <td>Fiber optic</td>\n",
              "      <td>No</td>\n",
              "      <td>No</td>\n",
              "      <td>No</td>\n",
              "      <td>No</td>\n",
              "      <td>No</td>\n",
              "      <td>No</td>\n",
              "      <td>Month-to-month</td>\n",
              "      <td>Yes</td>\n",
              "      <td>Electronic check</td>\n",
              "      <td>70.70</td>\n",
              "      <td>151.65</td>\n",
              "      <td>Yes</td>\n",
              "    </tr>\n",
              "  </tbody>\n",
              "</table>\n",
              "</div>"
            ],
            "text/plain": [
              "   customerID  gender  SeniorCitizen  ... MonthlyCharges TotalCharges  Churn\n",
              "0  7590-VHVEG  Female              0  ...          29.85        29.85     No\n",
              "1  5575-GNVDE    Male              0  ...          56.95       1889.5     No\n",
              "2  3668-QPYBK    Male              0  ...          53.85       108.15    Yes\n",
              "3  7795-CFOCW    Male              0  ...          42.30      1840.75     No\n",
              "4  9237-HQITU  Female              0  ...          70.70       151.65    Yes\n",
              "\n",
              "[5 rows x 21 columns]"
            ]
          },
          "metadata": {
            "tags": []
          },
          "execution_count": 1
        }
      ]
    },
    {
      "cell_type": "code",
      "metadata": {
        "id": "eTQK6AMJEVKB",
        "colab_type": "code",
        "colab": {}
      },
      "source": [
        "%%capture\n",
        "!pip install -U pandas-profiling\n",
        "!pip install category_encoders"
      ],
      "execution_count": 0,
      "outputs": []
    },
    {
      "cell_type": "code",
      "metadata": {
        "id": "Q1nwMr_76OXl",
        "colab_type": "code",
        "colab": {}
      },
      "source": [
        "# Get Profiling Report for the dataset\n",
        "import numpy as np\n",
        "from pandas_profiling import ProfileReport\n",
        "\n",
        "profile = ProfileReport(df, minimal=True).to_notebook_iframe()\n",
        "profile"
      ],
      "execution_count": 0,
      "outputs": []
    },
    {
      "cell_type": "markdown",
      "metadata": {
        "id": "3dVGH2dpcK0v",
        "colab_type": "text"
      },
      "source": [
        "DATA Cleaning"
      ]
    },
    {
      "cell_type": "code",
      "metadata": {
        "id": "Nj-5TjlqldiU",
        "colab_type": "code",
        "colab": {
          "base_uri": "https://localhost:8080/",
          "height": 397
        },
        "outputId": "c6e63194-c1e5-4261-d3f0-e6c4747c8972"
      },
      "source": [
        "df.nunique()"
      ],
      "execution_count": 2,
      "outputs": [
        {
          "output_type": "execute_result",
          "data": {
            "text/plain": [
              "customerID          7043\n",
              "gender                 2\n",
              "SeniorCitizen          2\n",
              "Partner                2\n",
              "Dependents             2\n",
              "tenure                73\n",
              "PhoneService           2\n",
              "MultipleLines          3\n",
              "InternetService        3\n",
              "OnlineSecurity         3\n",
              "OnlineBackup           3\n",
              "DeviceProtection       3\n",
              "TechSupport            3\n",
              "StreamingTV            3\n",
              "StreamingMovies        3\n",
              "Contract               3\n",
              "PaperlessBilling       2\n",
              "PaymentMethod          4\n",
              "MonthlyCharges      1585\n",
              "TotalCharges        6531\n",
              "Churn                  2\n",
              "dtype: int64"
            ]
          },
          "metadata": {
            "tags": []
          },
          "execution_count": 2
        }
      ]
    },
    {
      "cell_type": "code",
      "metadata": {
        "id": "Z0WweM8XcOrN",
        "colab_type": "code",
        "colab": {}
      },
      "source": [
        "#drop customerID\n",
        "df = df.drop(['customerID'], axis=1)\n",
        "\n",
        "#convert no/yes to 0 and 1\n",
        "columns = ['Partner', 'Dependents', 'PhoneService', 'OnlineSecurity',  \n",
        "           'OnlineBackup', 'DeviceProtection', 'TechSupport', 'StreamingTV',\n",
        "           'StreamingMovies', 'PaperlessBilling', 'Churn']\n",
        "\n",
        "for col in columns:\n",
        "  df[col] = [1 if x =='Yes'\n",
        "              else 0 for x in df[col]]\n",
        "\n",
        "\n",
        "\n",
        "#make total charges to go to cent.\n",
        "df['TotalCharges'] = df['TotalCharges'].replace(' ', 0).astype(float)"
      ],
      "execution_count": 0,
      "outputs": []
    },
    {
      "cell_type": "code",
      "metadata": {
        "id": "8dQcEGzuk7mX",
        "colab_type": "code",
        "colab": {
          "base_uri": "https://localhost:8080/",
          "height": 305
        },
        "outputId": "7ce6b7e5-7e76-4ee5-ba25-06943ec2ab34"
      },
      "source": [
        "print(df.shape)\n",
        "df.head()"
      ],
      "execution_count": 5,
      "outputs": [
        {
          "output_type": "stream",
          "text": [
            "(7043, 20)\n"
          ],
          "name": "stdout"
        },
        {
          "output_type": "execute_result",
          "data": {
            "text/html": [
              "<div>\n",
              "<style scoped>\n",
              "    .dataframe tbody tr th:only-of-type {\n",
              "        vertical-align: middle;\n",
              "    }\n",
              "\n",
              "    .dataframe tbody tr th {\n",
              "        vertical-align: top;\n",
              "    }\n",
              "\n",
              "    .dataframe thead th {\n",
              "        text-align: right;\n",
              "    }\n",
              "</style>\n",
              "<table border=\"1\" class=\"dataframe\">\n",
              "  <thead>\n",
              "    <tr style=\"text-align: right;\">\n",
              "      <th></th>\n",
              "      <th>gender</th>\n",
              "      <th>SeniorCitizen</th>\n",
              "      <th>Partner</th>\n",
              "      <th>Dependents</th>\n",
              "      <th>tenure</th>\n",
              "      <th>PhoneService</th>\n",
              "      <th>MultipleLines</th>\n",
              "      <th>InternetService</th>\n",
              "      <th>OnlineSecurity</th>\n",
              "      <th>OnlineBackup</th>\n",
              "      <th>DeviceProtection</th>\n",
              "      <th>TechSupport</th>\n",
              "      <th>StreamingTV</th>\n",
              "      <th>StreamingMovies</th>\n",
              "      <th>Contract</th>\n",
              "      <th>PaperlessBilling</th>\n",
              "      <th>PaymentMethod</th>\n",
              "      <th>MonthlyCharges</th>\n",
              "      <th>TotalCharges</th>\n",
              "      <th>Churn</th>\n",
              "    </tr>\n",
              "  </thead>\n",
              "  <tbody>\n",
              "    <tr>\n",
              "      <th>0</th>\n",
              "      <td>Female</td>\n",
              "      <td>0</td>\n",
              "      <td>1</td>\n",
              "      <td>0</td>\n",
              "      <td>1</td>\n",
              "      <td>0</td>\n",
              "      <td>No phone service</td>\n",
              "      <td>DSL</td>\n",
              "      <td>0</td>\n",
              "      <td>1</td>\n",
              "      <td>0</td>\n",
              "      <td>0</td>\n",
              "      <td>0</td>\n",
              "      <td>0</td>\n",
              "      <td>Month-to-month</td>\n",
              "      <td>1</td>\n",
              "      <td>Electronic check</td>\n",
              "      <td>29.85</td>\n",
              "      <td>29.85</td>\n",
              "      <td>0</td>\n",
              "    </tr>\n",
              "    <tr>\n",
              "      <th>1</th>\n",
              "      <td>Male</td>\n",
              "      <td>0</td>\n",
              "      <td>0</td>\n",
              "      <td>0</td>\n",
              "      <td>34</td>\n",
              "      <td>1</td>\n",
              "      <td>No</td>\n",
              "      <td>DSL</td>\n",
              "      <td>1</td>\n",
              "      <td>0</td>\n",
              "      <td>1</td>\n",
              "      <td>0</td>\n",
              "      <td>0</td>\n",
              "      <td>0</td>\n",
              "      <td>One year</td>\n",
              "      <td>0</td>\n",
              "      <td>Mailed check</td>\n",
              "      <td>56.95</td>\n",
              "      <td>1889.50</td>\n",
              "      <td>0</td>\n",
              "    </tr>\n",
              "    <tr>\n",
              "      <th>2</th>\n",
              "      <td>Male</td>\n",
              "      <td>0</td>\n",
              "      <td>0</td>\n",
              "      <td>0</td>\n",
              "      <td>2</td>\n",
              "      <td>1</td>\n",
              "      <td>No</td>\n",
              "      <td>DSL</td>\n",
              "      <td>1</td>\n",
              "      <td>1</td>\n",
              "      <td>0</td>\n",
              "      <td>0</td>\n",
              "      <td>0</td>\n",
              "      <td>0</td>\n",
              "      <td>Month-to-month</td>\n",
              "      <td>1</td>\n",
              "      <td>Mailed check</td>\n",
              "      <td>53.85</td>\n",
              "      <td>108.15</td>\n",
              "      <td>1</td>\n",
              "    </tr>\n",
              "    <tr>\n",
              "      <th>3</th>\n",
              "      <td>Male</td>\n",
              "      <td>0</td>\n",
              "      <td>0</td>\n",
              "      <td>0</td>\n",
              "      <td>45</td>\n",
              "      <td>0</td>\n",
              "      <td>No phone service</td>\n",
              "      <td>DSL</td>\n",
              "      <td>1</td>\n",
              "      <td>0</td>\n",
              "      <td>1</td>\n",
              "      <td>1</td>\n",
              "      <td>0</td>\n",
              "      <td>0</td>\n",
              "      <td>One year</td>\n",
              "      <td>0</td>\n",
              "      <td>Bank transfer (automatic)</td>\n",
              "      <td>42.30</td>\n",
              "      <td>1840.75</td>\n",
              "      <td>0</td>\n",
              "    </tr>\n",
              "    <tr>\n",
              "      <th>4</th>\n",
              "      <td>Female</td>\n",
              "      <td>0</td>\n",
              "      <td>0</td>\n",
              "      <td>0</td>\n",
              "      <td>2</td>\n",
              "      <td>1</td>\n",
              "      <td>No</td>\n",
              "      <td>Fiber optic</td>\n",
              "      <td>0</td>\n",
              "      <td>0</td>\n",
              "      <td>0</td>\n",
              "      <td>0</td>\n",
              "      <td>0</td>\n",
              "      <td>0</td>\n",
              "      <td>Month-to-month</td>\n",
              "      <td>1</td>\n",
              "      <td>Electronic check</td>\n",
              "      <td>70.70</td>\n",
              "      <td>151.65</td>\n",
              "      <td>1</td>\n",
              "    </tr>\n",
              "  </tbody>\n",
              "</table>\n",
              "</div>"
            ],
            "text/plain": [
              "   gender  SeniorCitizen  Partner  ...  MonthlyCharges  TotalCharges  Churn\n",
              "0  Female              0        1  ...           29.85         29.85      0\n",
              "1    Male              0        0  ...           56.95       1889.50      0\n",
              "2    Male              0        0  ...           53.85        108.15      1\n",
              "3    Male              0        0  ...           42.30       1840.75      0\n",
              "4  Female              0        0  ...           70.70        151.65      1\n",
              "\n",
              "[5 rows x 20 columns]"
            ]
          },
          "metadata": {
            "tags": []
          },
          "execution_count": 5
        }
      ]
    },
    {
      "cell_type": "code",
      "metadata": {
        "id": "K1_aVM2xHomg",
        "colab_type": "code",
        "colab": {
          "base_uri": "https://localhost:8080/",
          "height": 253
        },
        "outputId": "fc78e102-3afb-4ebd-a86e-edd6edee56da"
      },
      "source": [
        "# OneHotEncode categorical variables\n",
        "import category_encoders as ce\n",
        "encoder = ce.OneHotEncoder(use_cat_names=True)\n",
        "df_encoded = encoder.fit_transform(df)\n",
        "df_encoded.head()"
      ],
      "execution_count": 6,
      "outputs": [
        {
          "output_type": "execute_result",
          "data": {
            "text/html": [
              "<div>\n",
              "<style scoped>\n",
              "    .dataframe tbody tr th:only-of-type {\n",
              "        vertical-align: middle;\n",
              "    }\n",
              "\n",
              "    .dataframe tbody tr th {\n",
              "        vertical-align: top;\n",
              "    }\n",
              "\n",
              "    .dataframe thead th {\n",
              "        text-align: right;\n",
              "    }\n",
              "</style>\n",
              "<table border=\"1\" class=\"dataframe\">\n",
              "  <thead>\n",
              "    <tr style=\"text-align: right;\">\n",
              "      <th></th>\n",
              "      <th>gender_Female</th>\n",
              "      <th>gender_Male</th>\n",
              "      <th>SeniorCitizen</th>\n",
              "      <th>Partner</th>\n",
              "      <th>Dependents</th>\n",
              "      <th>tenure</th>\n",
              "      <th>PhoneService</th>\n",
              "      <th>MultipleLines_No phone service</th>\n",
              "      <th>MultipleLines_No</th>\n",
              "      <th>MultipleLines_Yes</th>\n",
              "      <th>InternetService_DSL</th>\n",
              "      <th>InternetService_Fiber optic</th>\n",
              "      <th>InternetService_No</th>\n",
              "      <th>OnlineSecurity</th>\n",
              "      <th>OnlineBackup</th>\n",
              "      <th>DeviceProtection</th>\n",
              "      <th>TechSupport</th>\n",
              "      <th>StreamingTV</th>\n",
              "      <th>StreamingMovies</th>\n",
              "      <th>Contract_Month-to-month</th>\n",
              "      <th>Contract_One year</th>\n",
              "      <th>Contract_Two year</th>\n",
              "      <th>PaperlessBilling</th>\n",
              "      <th>PaymentMethod_Electronic check</th>\n",
              "      <th>PaymentMethod_Mailed check</th>\n",
              "      <th>PaymentMethod_Bank transfer (automatic)</th>\n",
              "      <th>PaymentMethod_Credit card (automatic)</th>\n",
              "      <th>MonthlyCharges</th>\n",
              "      <th>TotalCharges</th>\n",
              "      <th>Churn</th>\n",
              "    </tr>\n",
              "  </thead>\n",
              "  <tbody>\n",
              "    <tr>\n",
              "      <th>0</th>\n",
              "      <td>1</td>\n",
              "      <td>0</td>\n",
              "      <td>0</td>\n",
              "      <td>1</td>\n",
              "      <td>0</td>\n",
              "      <td>1</td>\n",
              "      <td>0</td>\n",
              "      <td>1</td>\n",
              "      <td>0</td>\n",
              "      <td>0</td>\n",
              "      <td>1</td>\n",
              "      <td>0</td>\n",
              "      <td>0</td>\n",
              "      <td>0</td>\n",
              "      <td>1</td>\n",
              "      <td>0</td>\n",
              "      <td>0</td>\n",
              "      <td>0</td>\n",
              "      <td>0</td>\n",
              "      <td>1</td>\n",
              "      <td>0</td>\n",
              "      <td>0</td>\n",
              "      <td>1</td>\n",
              "      <td>1</td>\n",
              "      <td>0</td>\n",
              "      <td>0</td>\n",
              "      <td>0</td>\n",
              "      <td>29.85</td>\n",
              "      <td>29.85</td>\n",
              "      <td>0</td>\n",
              "    </tr>\n",
              "    <tr>\n",
              "      <th>1</th>\n",
              "      <td>0</td>\n",
              "      <td>1</td>\n",
              "      <td>0</td>\n",
              "      <td>0</td>\n",
              "      <td>0</td>\n",
              "      <td>34</td>\n",
              "      <td>1</td>\n",
              "      <td>0</td>\n",
              "      <td>1</td>\n",
              "      <td>0</td>\n",
              "      <td>1</td>\n",
              "      <td>0</td>\n",
              "      <td>0</td>\n",
              "      <td>1</td>\n",
              "      <td>0</td>\n",
              "      <td>1</td>\n",
              "      <td>0</td>\n",
              "      <td>0</td>\n",
              "      <td>0</td>\n",
              "      <td>0</td>\n",
              "      <td>1</td>\n",
              "      <td>0</td>\n",
              "      <td>0</td>\n",
              "      <td>0</td>\n",
              "      <td>1</td>\n",
              "      <td>0</td>\n",
              "      <td>0</td>\n",
              "      <td>56.95</td>\n",
              "      <td>1889.50</td>\n",
              "      <td>0</td>\n",
              "    </tr>\n",
              "    <tr>\n",
              "      <th>2</th>\n",
              "      <td>0</td>\n",
              "      <td>1</td>\n",
              "      <td>0</td>\n",
              "      <td>0</td>\n",
              "      <td>0</td>\n",
              "      <td>2</td>\n",
              "      <td>1</td>\n",
              "      <td>0</td>\n",
              "      <td>1</td>\n",
              "      <td>0</td>\n",
              "      <td>1</td>\n",
              "      <td>0</td>\n",
              "      <td>0</td>\n",
              "      <td>1</td>\n",
              "      <td>1</td>\n",
              "      <td>0</td>\n",
              "      <td>0</td>\n",
              "      <td>0</td>\n",
              "      <td>0</td>\n",
              "      <td>1</td>\n",
              "      <td>0</td>\n",
              "      <td>0</td>\n",
              "      <td>1</td>\n",
              "      <td>0</td>\n",
              "      <td>1</td>\n",
              "      <td>0</td>\n",
              "      <td>0</td>\n",
              "      <td>53.85</td>\n",
              "      <td>108.15</td>\n",
              "      <td>1</td>\n",
              "    </tr>\n",
              "    <tr>\n",
              "      <th>3</th>\n",
              "      <td>0</td>\n",
              "      <td>1</td>\n",
              "      <td>0</td>\n",
              "      <td>0</td>\n",
              "      <td>0</td>\n",
              "      <td>45</td>\n",
              "      <td>0</td>\n",
              "      <td>1</td>\n",
              "      <td>0</td>\n",
              "      <td>0</td>\n",
              "      <td>1</td>\n",
              "      <td>0</td>\n",
              "      <td>0</td>\n",
              "      <td>1</td>\n",
              "      <td>0</td>\n",
              "      <td>1</td>\n",
              "      <td>1</td>\n",
              "      <td>0</td>\n",
              "      <td>0</td>\n",
              "      <td>0</td>\n",
              "      <td>1</td>\n",
              "      <td>0</td>\n",
              "      <td>0</td>\n",
              "      <td>0</td>\n",
              "      <td>0</td>\n",
              "      <td>1</td>\n",
              "      <td>0</td>\n",
              "      <td>42.30</td>\n",
              "      <td>1840.75</td>\n",
              "      <td>0</td>\n",
              "    </tr>\n",
              "    <tr>\n",
              "      <th>4</th>\n",
              "      <td>1</td>\n",
              "      <td>0</td>\n",
              "      <td>0</td>\n",
              "      <td>0</td>\n",
              "      <td>0</td>\n",
              "      <td>2</td>\n",
              "      <td>1</td>\n",
              "      <td>0</td>\n",
              "      <td>1</td>\n",
              "      <td>0</td>\n",
              "      <td>0</td>\n",
              "      <td>1</td>\n",
              "      <td>0</td>\n",
              "      <td>0</td>\n",
              "      <td>0</td>\n",
              "      <td>0</td>\n",
              "      <td>0</td>\n",
              "      <td>0</td>\n",
              "      <td>0</td>\n",
              "      <td>1</td>\n",
              "      <td>0</td>\n",
              "      <td>0</td>\n",
              "      <td>1</td>\n",
              "      <td>1</td>\n",
              "      <td>0</td>\n",
              "      <td>0</td>\n",
              "      <td>0</td>\n",
              "      <td>70.70</td>\n",
              "      <td>151.65</td>\n",
              "      <td>1</td>\n",
              "    </tr>\n",
              "  </tbody>\n",
              "</table>\n",
              "</div>"
            ],
            "text/plain": [
              "   gender_Female  gender_Male  ...  TotalCharges  Churn\n",
              "0              1            0  ...         29.85      0\n",
              "1              0            1  ...       1889.50      0\n",
              "2              0            1  ...        108.15      1\n",
              "3              0            1  ...       1840.75      0\n",
              "4              1            0  ...        151.65      1\n",
              "\n",
              "[5 rows x 30 columns]"
            ]
          },
          "metadata": {
            "tags": []
          },
          "execution_count": 6
        }
      ]
    },
    {
      "cell_type": "markdown",
      "metadata": {
        "id": "Pqr1Zt6pocjY",
        "colab_type": "text"
      },
      "source": [
        "Create and fit a baseline Keras MLP model to the data"
      ]
    },
    {
      "cell_type": "code",
      "metadata": {
        "id": "C8jVDm0rn6aJ",
        "colab_type": "code",
        "colab": {
          "base_uri": "https://localhost:8080/",
          "height": 72
        },
        "outputId": "fe215474-5f95-4ebd-8895-a1c9d381201f"
      },
      "source": [
        "feats = list(df_encoded)[:-1]\n",
        "print(feats)\n",
        "X = df_encoded[feats].values\n",
        "y = df_encoded['Churn']\n",
        "\n",
        "\n",
        "X.shape, y.shape"
      ],
      "execution_count": 7,
      "outputs": [
        {
          "output_type": "stream",
          "text": [
            "['gender_Female', 'gender_Male', 'SeniorCitizen', 'Partner', 'Dependents', 'tenure', 'PhoneService', 'MultipleLines_No phone service', 'MultipleLines_No', 'MultipleLines_Yes', 'InternetService_DSL', 'InternetService_Fiber optic', 'InternetService_No', 'OnlineSecurity', 'OnlineBackup', 'DeviceProtection', 'TechSupport', 'StreamingTV', 'StreamingMovies', 'Contract_Month-to-month', 'Contract_One year', 'Contract_Two year', 'PaperlessBilling', 'PaymentMethod_Electronic check', 'PaymentMethod_Mailed check', 'PaymentMethod_Bank transfer (automatic)', 'PaymentMethod_Credit card (automatic)', 'MonthlyCharges', 'TotalCharges']\n"
          ],
          "name": "stdout"
        },
        {
          "output_type": "execute_result",
          "data": {
            "text/plain": [
              "((7043, 29), (7043,))"
            ]
          },
          "metadata": {
            "tags": []
          },
          "execution_count": 7
        }
      ]
    },
    {
      "cell_type": "code",
      "metadata": {
        "id": "iQD5NQZwHEaH",
        "colab_type": "code",
        "colab": {
          "base_uri": "https://localhost:8080/",
          "height": 35
        },
        "outputId": "f79467e0-7f6a-45dc-d6cb-fc9ad198bd93"
      },
      "source": [
        "from sklearn import preprocessing\n",
        "scaler = preprocessing.MinMaxScaler()\n",
        "\n",
        "X = scaler.fit_transform(X)\n",
        "X.shape"
      ],
      "execution_count": 8,
      "outputs": [
        {
          "output_type": "execute_result",
          "data": {
            "text/plain": [
              "(7043, 29)"
            ]
          },
          "metadata": {
            "tags": []
          },
          "execution_count": 8
        }
      ]
    },
    {
      "cell_type": "code",
      "metadata": {
        "id": "umRle_qcIUcf",
        "colab_type": "code",
        "colab": {
          "base_uri": "https://localhost:8080/",
          "height": 35
        },
        "outputId": "56f0501b-6191-4cec-c3bd-c5e30ddd7042"
      },
      "source": [
        "type(X)"
      ],
      "execution_count": 9,
      "outputs": [
        {
          "output_type": "execute_result",
          "data": {
            "text/plain": [
              "numpy.ndarray"
            ]
          },
          "metadata": {
            "tags": []
          },
          "execution_count": 9
        }
      ]
    },
    {
      "cell_type": "code",
      "metadata": {
        "id": "ctv44BVuIn5n",
        "colab_type": "code",
        "colab": {
          "base_uri": "https://localhost:8080/",
          "height": 35
        },
        "outputId": "7dda46cb-c8da-424b-f2ac-085761216b74"
      },
      "source": [
        "y = df_encoded['Churn'].values\n",
        "y.shape"
      ],
      "execution_count": 10,
      "outputs": [
        {
          "output_type": "execute_result",
          "data": {
            "text/plain": [
              "(7043,)"
            ]
          },
          "metadata": {
            "tags": []
          },
          "execution_count": 10
        }
      ]
    },
    {
      "cell_type": "code",
      "metadata": {
        "id": "s7GLQUhtI3dp",
        "colab_type": "code",
        "colab": {
          "base_uri": "https://localhost:8080/",
          "height": 35
        },
        "outputId": "cd1d714c-bade-40cb-f53b-fc988eaba8d2"
      },
      "source": [
        "type(y)"
      ],
      "execution_count": 11,
      "outputs": [
        {
          "output_type": "execute_result",
          "data": {
            "text/plain": [
              "numpy.ndarray"
            ]
          },
          "metadata": {
            "tags": []
          },
          "execution_count": 11
        }
      ]
    },
    {
      "cell_type": "code",
      "metadata": {
        "id": "JHbHB7ycpBs4",
        "colab_type": "code",
        "colab": {}
      },
      "source": [
        "!pip install wandb"
      ],
      "execution_count": 0,
      "outputs": []
    },
    {
      "cell_type": "code",
      "metadata": {
        "id": "1jbRdFVVrmhO",
        "colab_type": "code",
        "colab": {}
      },
      "source": [
        "wandb_project = \"dspt4_assignment\""
      ],
      "execution_count": 0,
      "outputs": []
    },
    {
      "cell_type": "code",
      "metadata": {
        "id": "H7AlSFEBrmsD",
        "colab_type": "code",
        "colab": {
          "base_uri": "https://localhost:8080/",
          "height": 52
        },
        "outputId": "13deb29a-1347-4280-b214-ca7c525df2b3"
      },
      "source": [
        "!wandb login 143673a9eeadf68b7cee9f3b5558e58dcbcf1955"
      ],
      "execution_count": 13,
      "outputs": [
        {
          "output_type": "stream",
          "text": [
            "\u001b[34m\u001b[1mwandb\u001b[0m: Appending key for api.wandb.ai to your netrc file: /root/.netrc\n",
            "\u001b[32mSuccessfully logged in to Weights & Biases!\u001b[0m\n"
          ],
          "name": "stdout"
        }
      ]
    },
    {
      "cell_type": "code",
      "metadata": {
        "id": "qHyS2OxErm0V",
        "colab_type": "code",
        "colab": {}
      },
      "source": [
        "from tensorflow.keras.models import Sequential\n",
        "from tensorflow.keras.layers import Dense"
      ],
      "execution_count": 0,
      "outputs": []
    },
    {
      "cell_type": "code",
      "metadata": {
        "id": "5bgG10TJrm4B",
        "colab_type": "code",
        "colab": {}
      },
      "source": [
        "#Create and fit a baseline Keras MLP model to the data\n",
        "\n",
        "#create model\n",
        "model = Sequential()\n",
        "model.add(Dense(64, input_dim = 29, activation = 'relu'))\n",
        "model.add(Dense(1, activation = 'sigmoid'))\n",
        "\n",
        "#compile the model\n",
        "model.compile(optimizer = 'adam', loss = 'binary_crossentropy', metrics = ['accuracy'])\n",
        "\n"
      ],
      "execution_count": 0,
      "outputs": []
    },
    {
      "cell_type": "code",
      "metadata": {
        "id": "LDOdW929RGdK",
        "colab_type": "code",
        "colab": {
          "base_uri": "https://localhost:8080/",
          "height": 1000
        },
        "outputId": "1e20a8eb-4f07-41db-e19c-93cc84794ebc"
      },
      "source": [
        "#fit the model\n",
        "hist = model.fit(X,y, epochs = 115)"
      ],
      "execution_count": 22,
      "outputs": [
        {
          "output_type": "stream",
          "text": [
            "Epoch 1/115\n",
            "221/221 [==============================] - 0s 2ms/step - loss: 0.3462 - accuracy: 0.8421\n",
            "Epoch 2/115\n",
            "221/221 [==============================] - 0s 2ms/step - loss: 0.3462 - accuracy: 0.8414\n",
            "Epoch 3/115\n",
            "221/221 [==============================] - 0s 2ms/step - loss: 0.3470 - accuracy: 0.8407\n",
            "Epoch 4/115\n",
            "221/221 [==============================] - 0s 2ms/step - loss: 0.3465 - accuracy: 0.8396\n",
            "Epoch 5/115\n",
            "221/221 [==============================] - 0s 2ms/step - loss: 0.3461 - accuracy: 0.8398\n",
            "Epoch 6/115\n",
            "221/221 [==============================] - 0s 2ms/step - loss: 0.3461 - accuracy: 0.8391\n",
            "Epoch 7/115\n",
            "221/221 [==============================] - 0s 2ms/step - loss: 0.3474 - accuracy: 0.8384\n",
            "Epoch 8/115\n",
            "221/221 [==============================] - 0s 2ms/step - loss: 0.3462 - accuracy: 0.8391\n",
            "Epoch 9/115\n",
            "221/221 [==============================] - 0s 2ms/step - loss: 0.3462 - accuracy: 0.8403\n",
            "Epoch 10/115\n",
            "221/221 [==============================] - 0s 2ms/step - loss: 0.3454 - accuracy: 0.8396\n",
            "Epoch 11/115\n",
            "221/221 [==============================] - 0s 2ms/step - loss: 0.3452 - accuracy: 0.8420\n",
            "Epoch 12/115\n",
            "221/221 [==============================] - 0s 2ms/step - loss: 0.3437 - accuracy: 0.8401\n",
            "Epoch 13/115\n",
            "221/221 [==============================] - 0s 2ms/step - loss: 0.3445 - accuracy: 0.8407\n",
            "Epoch 14/115\n",
            "221/221 [==============================] - 0s 2ms/step - loss: 0.3449 - accuracy: 0.8406\n",
            "Epoch 15/115\n",
            "221/221 [==============================] - 0s 2ms/step - loss: 0.3441 - accuracy: 0.8423\n",
            "Epoch 16/115\n",
            "221/221 [==============================] - 0s 2ms/step - loss: 0.3454 - accuracy: 0.8420\n",
            "Epoch 17/115\n",
            "221/221 [==============================] - 0s 2ms/step - loss: 0.3431 - accuracy: 0.8380\n",
            "Epoch 18/115\n",
            "221/221 [==============================] - 0s 2ms/step - loss: 0.3428 - accuracy: 0.8430\n",
            "Epoch 19/115\n",
            "221/221 [==============================] - 0s 2ms/step - loss: 0.3423 - accuracy: 0.8423\n",
            "Epoch 20/115\n",
            "221/221 [==============================] - 0s 2ms/step - loss: 0.3431 - accuracy: 0.8410\n",
            "Epoch 21/115\n",
            "221/221 [==============================] - 0s 2ms/step - loss: 0.3436 - accuracy: 0.8387\n",
            "Epoch 22/115\n",
            "221/221 [==============================] - 0s 2ms/step - loss: 0.3423 - accuracy: 0.8407\n",
            "Epoch 23/115\n",
            "221/221 [==============================] - 0s 2ms/step - loss: 0.3431 - accuracy: 0.8406\n",
            "Epoch 24/115\n",
            "221/221 [==============================] - 0s 2ms/step - loss: 0.3425 - accuracy: 0.8396\n",
            "Epoch 25/115\n",
            "221/221 [==============================] - 0s 2ms/step - loss: 0.3423 - accuracy: 0.8408\n",
            "Epoch 26/115\n",
            "221/221 [==============================] - 1s 2ms/step - loss: 0.3409 - accuracy: 0.8444\n",
            "Epoch 27/115\n",
            "221/221 [==============================] - 0s 2ms/step - loss: 0.3416 - accuracy: 0.8394\n",
            "Epoch 28/115\n",
            "221/221 [==============================] - 0s 2ms/step - loss: 0.3407 - accuracy: 0.8423\n",
            "Epoch 29/115\n",
            "221/221 [==============================] - 0s 2ms/step - loss: 0.3408 - accuracy: 0.8413\n",
            "Epoch 30/115\n",
            "221/221 [==============================] - 0s 2ms/step - loss: 0.3422 - accuracy: 0.8408\n",
            "Epoch 31/115\n",
            "221/221 [==============================] - 0s 2ms/step - loss: 0.3411 - accuracy: 0.8441\n",
            "Epoch 32/115\n",
            "221/221 [==============================] - 0s 2ms/step - loss: 0.3410 - accuracy: 0.8418\n",
            "Epoch 33/115\n",
            "221/221 [==============================] - 0s 2ms/step - loss: 0.3383 - accuracy: 0.8432\n",
            "Epoch 34/115\n",
            "221/221 [==============================] - 0s 2ms/step - loss: 0.3401 - accuracy: 0.8444\n",
            "Epoch 35/115\n",
            "221/221 [==============================] - 0s 2ms/step - loss: 0.3413 - accuracy: 0.8407\n",
            "Epoch 36/115\n",
            "221/221 [==============================] - 0s 2ms/step - loss: 0.3399 - accuracy: 0.8403\n",
            "Epoch 37/115\n",
            "221/221 [==============================] - 0s 2ms/step - loss: 0.3381 - accuracy: 0.8445\n",
            "Epoch 38/115\n",
            "221/221 [==============================] - 0s 2ms/step - loss: 0.3408 - accuracy: 0.8418\n",
            "Epoch 39/115\n",
            "221/221 [==============================] - 0s 2ms/step - loss: 0.3386 - accuracy: 0.8413\n",
            "Epoch 40/115\n",
            "221/221 [==============================] - 0s 2ms/step - loss: 0.3371 - accuracy: 0.8447\n",
            "Epoch 41/115\n",
            "221/221 [==============================] - 0s 2ms/step - loss: 0.3397 - accuracy: 0.8442\n",
            "Epoch 42/115\n",
            "221/221 [==============================] - 0s 2ms/step - loss: 0.3376 - accuracy: 0.8474\n",
            "Epoch 43/115\n",
            "221/221 [==============================] - 0s 2ms/step - loss: 0.3379 - accuracy: 0.8442\n",
            "Epoch 44/115\n",
            "221/221 [==============================] - 0s 2ms/step - loss: 0.3381 - accuracy: 0.8442\n",
            "Epoch 45/115\n",
            "221/221 [==============================] - 0s 2ms/step - loss: 0.3409 - accuracy: 0.8424\n",
            "Epoch 46/115\n",
            "221/221 [==============================] - 0s 2ms/step - loss: 0.3377 - accuracy: 0.8457\n",
            "Epoch 47/115\n",
            "221/221 [==============================] - 0s 2ms/step - loss: 0.3368 - accuracy: 0.8427\n",
            "Epoch 48/115\n",
            "221/221 [==============================] - 0s 2ms/step - loss: 0.3370 - accuracy: 0.8442\n",
            "Epoch 49/115\n",
            "221/221 [==============================] - 0s 2ms/step - loss: 0.3377 - accuracy: 0.8450\n",
            "Epoch 50/115\n",
            "221/221 [==============================] - 0s 2ms/step - loss: 0.3366 - accuracy: 0.8441\n",
            "Epoch 51/115\n",
            "221/221 [==============================] - 0s 2ms/step - loss: 0.3357 - accuracy: 0.8474\n",
            "Epoch 52/115\n",
            "221/221 [==============================] - 0s 2ms/step - loss: 0.3357 - accuracy: 0.8448\n",
            "Epoch 53/115\n",
            "221/221 [==============================] - 0s 2ms/step - loss: 0.3371 - accuracy: 0.8451\n",
            "Epoch 54/115\n",
            "221/221 [==============================] - 0s 2ms/step - loss: 0.3360 - accuracy: 0.8434\n",
            "Epoch 55/115\n",
            "221/221 [==============================] - 0s 2ms/step - loss: 0.3371 - accuracy: 0.8435\n",
            "Epoch 56/115\n",
            "221/221 [==============================] - 0s 2ms/step - loss: 0.3368 - accuracy: 0.8431\n",
            "Epoch 57/115\n",
            "221/221 [==============================] - 0s 2ms/step - loss: 0.3367 - accuracy: 0.8489\n",
            "Epoch 58/115\n",
            "221/221 [==============================] - 0s 2ms/step - loss: 0.3364 - accuracy: 0.8454\n",
            "Epoch 59/115\n",
            "221/221 [==============================] - 0s 2ms/step - loss: 0.3334 - accuracy: 0.8462\n",
            "Epoch 60/115\n",
            "221/221 [==============================] - 0s 2ms/step - loss: 0.3348 - accuracy: 0.8430\n",
            "Epoch 61/115\n",
            "221/221 [==============================] - 0s 2ms/step - loss: 0.3362 - accuracy: 0.8425\n",
            "Epoch 62/115\n",
            "221/221 [==============================] - 0s 2ms/step - loss: 0.3337 - accuracy: 0.8465\n",
            "Epoch 63/115\n",
            "221/221 [==============================] - 0s 2ms/step - loss: 0.3371 - accuracy: 0.8434\n",
            "Epoch 64/115\n",
            "221/221 [==============================] - 0s 2ms/step - loss: 0.3347 - accuracy: 0.8430\n",
            "Epoch 65/115\n",
            "221/221 [==============================] - 0s 2ms/step - loss: 0.3337 - accuracy: 0.8471\n",
            "Epoch 66/115\n",
            "221/221 [==============================] - 0s 2ms/step - loss: 0.3343 - accuracy: 0.8438\n",
            "Epoch 67/115\n",
            "221/221 [==============================] - 0s 2ms/step - loss: 0.3343 - accuracy: 0.8469\n",
            "Epoch 68/115\n",
            "221/221 [==============================] - 0s 2ms/step - loss: 0.3331 - accuracy: 0.8464\n",
            "Epoch 69/115\n",
            "221/221 [==============================] - 0s 2ms/step - loss: 0.3324 - accuracy: 0.8457\n",
            "Epoch 70/115\n",
            "221/221 [==============================] - 0s 2ms/step - loss: 0.3326 - accuracy: 0.8452\n",
            "Epoch 71/115\n",
            "221/221 [==============================] - 1s 2ms/step - loss: 0.3334 - accuracy: 0.8469\n",
            "Epoch 72/115\n",
            "221/221 [==============================] - 0s 2ms/step - loss: 0.3338 - accuracy: 0.8454\n",
            "Epoch 73/115\n",
            "221/221 [==============================] - 0s 2ms/step - loss: 0.3322 - accuracy: 0.8451\n",
            "Epoch 74/115\n",
            "221/221 [==============================] - 0s 2ms/step - loss: 0.3321 - accuracy: 0.8468\n",
            "Epoch 75/115\n",
            "221/221 [==============================] - 0s 2ms/step - loss: 0.3301 - accuracy: 0.8494\n",
            "Epoch 76/115\n",
            "221/221 [==============================] - 0s 2ms/step - loss: 0.3318 - accuracy: 0.8475\n",
            "Epoch 77/115\n",
            "221/221 [==============================] - 0s 2ms/step - loss: 0.3311 - accuracy: 0.8481\n",
            "Epoch 78/115\n",
            "221/221 [==============================] - 0s 2ms/step - loss: 0.3307 - accuracy: 0.8484\n",
            "Epoch 79/115\n",
            "221/221 [==============================] - 0s 2ms/step - loss: 0.3328 - accuracy: 0.8458\n",
            "Epoch 80/115\n",
            "221/221 [==============================] - 0s 2ms/step - loss: 0.3323 - accuracy: 0.8462\n",
            "Epoch 81/115\n",
            "221/221 [==============================] - 0s 2ms/step - loss: 0.3338 - accuracy: 0.8442\n",
            "Epoch 82/115\n",
            "221/221 [==============================] - 0s 2ms/step - loss: 0.3307 - accuracy: 0.8462\n",
            "Epoch 83/115\n",
            "221/221 [==============================] - 0s 2ms/step - loss: 0.3292 - accuracy: 0.8425\n",
            "Epoch 84/115\n",
            "221/221 [==============================] - 0s 2ms/step - loss: 0.3298 - accuracy: 0.8450\n",
            "Epoch 85/115\n",
            "221/221 [==============================] - 0s 2ms/step - loss: 0.3299 - accuracy: 0.8488\n",
            "Epoch 86/115\n",
            "221/221 [==============================] - 0s 2ms/step - loss: 0.3319 - accuracy: 0.8462\n",
            "Epoch 87/115\n",
            "221/221 [==============================] - 0s 2ms/step - loss: 0.3317 - accuracy: 0.8458\n",
            "Epoch 88/115\n",
            "221/221 [==============================] - 0s 2ms/step - loss: 0.3298 - accuracy: 0.8486\n",
            "Epoch 89/115\n",
            "221/221 [==============================] - 0s 2ms/step - loss: 0.3307 - accuracy: 0.8461\n",
            "Epoch 90/115\n",
            "221/221 [==============================] - 1s 2ms/step - loss: 0.3289 - accuracy: 0.8447\n",
            "Epoch 91/115\n",
            "221/221 [==============================] - 0s 2ms/step - loss: 0.3311 - accuracy: 0.8430\n",
            "Epoch 92/115\n",
            "221/221 [==============================] - 0s 2ms/step - loss: 0.3300 - accuracy: 0.8484\n",
            "Epoch 93/115\n",
            "221/221 [==============================] - 0s 2ms/step - loss: 0.3264 - accuracy: 0.8505\n",
            "Epoch 94/115\n",
            "221/221 [==============================] - 0s 2ms/step - loss: 0.3283 - accuracy: 0.8489\n",
            "Epoch 95/115\n",
            "221/221 [==============================] - 0s 2ms/step - loss: 0.3269 - accuracy: 0.8481\n",
            "Epoch 96/115\n",
            "221/221 [==============================] - 0s 2ms/step - loss: 0.3283 - accuracy: 0.8464\n",
            "Epoch 97/115\n",
            "221/221 [==============================] - 0s 2ms/step - loss: 0.3290 - accuracy: 0.8457\n",
            "Epoch 98/115\n",
            "221/221 [==============================] - 0s 2ms/step - loss: 0.3280 - accuracy: 0.8491\n",
            "Epoch 99/115\n",
            "221/221 [==============================] - 0s 2ms/step - loss: 0.3281 - accuracy: 0.8479\n",
            "Epoch 100/115\n",
            "221/221 [==============================] - 0s 2ms/step - loss: 0.3268 - accuracy: 0.8478\n",
            "Epoch 101/115\n",
            "221/221 [==============================] - 0s 2ms/step - loss: 0.3279 - accuracy: 0.8496\n",
            "Epoch 102/115\n",
            "221/221 [==============================] - 0s 2ms/step - loss: 0.3249 - accuracy: 0.8502\n",
            "Epoch 103/115\n",
            "221/221 [==============================] - 0s 2ms/step - loss: 0.3266 - accuracy: 0.8482\n",
            "Epoch 104/115\n",
            "221/221 [==============================] - 0s 2ms/step - loss: 0.3268 - accuracy: 0.8437\n",
            "Epoch 105/115\n",
            "221/221 [==============================] - 0s 2ms/step - loss: 0.3289 - accuracy: 0.8462\n",
            "Epoch 106/115\n",
            "221/221 [==============================] - 0s 2ms/step - loss: 0.3260 - accuracy: 0.8467\n",
            "Epoch 107/115\n",
            "221/221 [==============================] - 0s 2ms/step - loss: 0.3266 - accuracy: 0.8484\n",
            "Epoch 108/115\n",
            "221/221 [==============================] - 0s 2ms/step - loss: 0.3287 - accuracy: 0.8472\n",
            "Epoch 109/115\n",
            "221/221 [==============================] - 0s 2ms/step - loss: 0.3256 - accuracy: 0.8491\n",
            "Epoch 110/115\n",
            "221/221 [==============================] - 0s 2ms/step - loss: 0.3264 - accuracy: 0.8484\n",
            "Epoch 111/115\n",
            "221/221 [==============================] - 0s 2ms/step - loss: 0.3268 - accuracy: 0.8511\n",
            "Epoch 112/115\n",
            "221/221 [==============================] - 0s 2ms/step - loss: 0.3242 - accuracy: 0.8515\n",
            "Epoch 113/115\n",
            "221/221 [==============================] - 0s 2ms/step - loss: 0.3246 - accuracy: 0.8481\n",
            "Epoch 114/115\n",
            "221/221 [==============================] - 0s 2ms/step - loss: 0.3243 - accuracy: 0.8502\n",
            "Epoch 115/115\n",
            "221/221 [==============================] - 0s 2ms/step - loss: 0.3255 - accuracy: 0.8458\n"
          ],
          "name": "stdout"
        }
      ]
    },
    {
      "cell_type": "code",
      "metadata": {
        "id": "lzTwicuVU8NE",
        "colab_type": "code",
        "colab": {
          "base_uri": "https://localhost:8080/",
          "height": 225
        },
        "outputId": "453c9008-34ad-4668-b77d-9baadac72ba6"
      },
      "source": [
        "model.summary()"
      ],
      "execution_count": 23,
      "outputs": [
        {
          "output_type": "stream",
          "text": [
            "Model: \"sequential\"\n",
            "_________________________________________________________________\n",
            "Layer (type)                 Output Shape              Param #   \n",
            "=================================================================\n",
            "dense (Dense)                (None, 64)                1920      \n",
            "_________________________________________________________________\n",
            "dense_1 (Dense)              (None, 1)                 65        \n",
            "=================================================================\n",
            "Total params: 1,985\n",
            "Trainable params: 1,985\n",
            "Non-trainable params: 0\n",
            "_________________________________________________________________\n"
          ],
          "name": "stdout"
        }
      ]
    },
    {
      "cell_type": "code",
      "metadata": {
        "id": "XRN3tUNgU9k4",
        "colab_type": "code",
        "colab": {
          "base_uri": "https://localhost:8080/",
          "height": 35
        },
        "outputId": "0e683fa2-25bf-411e-a3ae-ed1a111f1e49"
      },
      "source": [
        "model.history.history.keys()"
      ],
      "execution_count": 24,
      "outputs": [
        {
          "output_type": "execute_result",
          "data": {
            "text/plain": [
              "dict_keys(['loss', 'accuracy'])"
            ]
          },
          "metadata": {
            "tags": []
          },
          "execution_count": 24
        }
      ]
    },
    {
      "cell_type": "code",
      "metadata": {
        "id": "hvX4NORgVOxm",
        "colab_type": "code",
        "colab": {
          "base_uri": "https://localhost:8080/",
          "height": 380
        },
        "outputId": "9058a02b-7c53-47c0-97dd-bf3f6f3d783e"
      },
      "source": [
        "import matplotlib.pyplot as plt\n",
        "\n",
        "plt.plot(hist.history['loss'])\n",
        "plt.title('model loss')\n",
        "plt.ylabel('loss')\n",
        "plt.xlabel('epoch')\n",
        "plt.show()"
      ],
      "execution_count": 25,
      "outputs": [
        {
          "output_type": "display_data",
          "data": {
            "image/png": "[encoded data removed]",
            "text/plain": [
              "<Figure size 576x396 with 1 Axes>"
            ]
          },
          "metadata": {
            "tags": []
          }
        }
      ]
    },
    {
      "cell_type": "code",
      "metadata": {
        "id": "BQrK2SgT2W4n",
        "colab_type": "code",
        "colab": {
          "base_uri": "https://localhost:8080/",
          "height": 69
        },
        "outputId": "91665cad-0458-4a15-88c2-3dd5d49122b6"
      },
      "source": [
        "df_encoded['Churn'].value_counts(normalize=True)"
      ],
      "execution_count": 26,
      "outputs": [
        {
          "output_type": "execute_result",
          "data": {
            "text/plain": [
              "0    0.73463\n",
              "1    0.26537\n",
              "Name: Churn, dtype: float64"
            ]
          },
          "metadata": {
            "tags": []
          },
          "execution_count": 26
        }
      ]
    },
    {
      "cell_type": "code",
      "metadata": {
        "id": "xbQux9MmDzM6",
        "colab_type": "code",
        "colab": {
          "base_uri": "https://localhost:8080/",
          "height": 1000
        },
        "outputId": "e862d36e-3620-4b7b-9ca1-4b74a545cbfe"
      },
      "source": [
        "from tensorflow.keras.callbacks import EarlyStopping\n",
        "\n",
        "early_stop = EarlyStopping(monitor='loss', patience=5)\n",
        "\n",
        "model.compile(optimizer = 'adam',\n",
        "                  loss = 'binary_crossentropy',\n",
        "                  metrics = ['accuracy'])\n",
        "model.fit(X, y, epochs = 1000,\n",
        "                  callbacks = [early_stop])"
      ],
      "execution_count": 21,
      "outputs": [
        {
          "output_type": "stream",
          "text": [
            "Epoch 1/1000\n",
            "221/221 [==============================] - 1s 2ms/step - loss: 0.3860 - accuracy: 0.8190\n",
            "Epoch 2/1000\n",
            "221/221 [==============================] - 0s 2ms/step - loss: 0.3854 - accuracy: 0.8177\n",
            "Epoch 3/1000\n",
            "221/221 [==============================] - 1s 2ms/step - loss: 0.3855 - accuracy: 0.8184\n",
            "Epoch 4/1000\n",
            "221/221 [==============================] - 1s 2ms/step - loss: 0.3839 - accuracy: 0.8187\n",
            "Epoch 5/1000\n",
            "221/221 [==============================] - 1s 2ms/step - loss: 0.3836 - accuracy: 0.8187\n",
            "Epoch 6/1000\n",
            "221/221 [==============================] - 0s 2ms/step - loss: 0.3824 - accuracy: 0.8210\n",
            "Epoch 7/1000\n",
            "221/221 [==============================] - 1s 2ms/step - loss: 0.3833 - accuracy: 0.8201\n",
            "Epoch 8/1000\n",
            "221/221 [==============================] - 0s 2ms/step - loss: 0.3821 - accuracy: 0.8214\n",
            "Epoch 9/1000\n",
            "221/221 [==============================] - 1s 2ms/step - loss: 0.3823 - accuracy: 0.8188\n",
            "Epoch 10/1000\n",
            "221/221 [==============================] - 1s 2ms/step - loss: 0.3827 - accuracy: 0.8183\n",
            "Epoch 11/1000\n",
            "221/221 [==============================] - 1s 2ms/step - loss: 0.3807 - accuracy: 0.8241\n",
            "Epoch 12/1000\n",
            "221/221 [==============================] - 1s 2ms/step - loss: 0.3812 - accuracy: 0.8184\n",
            "Epoch 13/1000\n",
            "221/221 [==============================] - 1s 2ms/step - loss: 0.3814 - accuracy: 0.8190\n",
            "Epoch 14/1000\n",
            "221/221 [==============================] - 1s 2ms/step - loss: 0.3788 - accuracy: 0.8218\n",
            "Epoch 15/1000\n",
            "221/221 [==============================] - 1s 2ms/step - loss: 0.3782 - accuracy: 0.8241\n",
            "Epoch 16/1000\n",
            "221/221 [==============================] - 0s 2ms/step - loss: 0.3795 - accuracy: 0.8217\n",
            "Epoch 17/1000\n",
            "221/221 [==============================] - 0s 2ms/step - loss: 0.3781 - accuracy: 0.8217\n",
            "Epoch 18/1000\n",
            "221/221 [==============================] - 0s 2ms/step - loss: 0.3779 - accuracy: 0.8229\n",
            "Epoch 19/1000\n",
            "221/221 [==============================] - 0s 2ms/step - loss: 0.3769 - accuracy: 0.8231\n",
            "Epoch 20/1000\n",
            "221/221 [==============================] - 0s 2ms/step - loss: 0.3771 - accuracy: 0.8221\n",
            "Epoch 21/1000\n",
            "221/221 [==============================] - 0s 2ms/step - loss: 0.3758 - accuracy: 0.8237\n",
            "Epoch 22/1000\n",
            "221/221 [==============================] - 0s 2ms/step - loss: 0.3748 - accuracy: 0.8248\n",
            "Epoch 23/1000\n",
            "221/221 [==============================] - 0s 2ms/step - loss: 0.3754 - accuracy: 0.8255\n",
            "Epoch 24/1000\n",
            "221/221 [==============================] - 0s 2ms/step - loss: 0.3735 - accuracy: 0.8237\n",
            "Epoch 25/1000\n",
            "221/221 [==============================] - 0s 2ms/step - loss: 0.3744 - accuracy: 0.8251\n",
            "Epoch 26/1000\n",
            "221/221 [==============================] - 0s 2ms/step - loss: 0.3737 - accuracy: 0.8265\n",
            "Epoch 27/1000\n",
            "221/221 [==============================] - 0s 2ms/step - loss: 0.3737 - accuracy: 0.8254\n",
            "Epoch 28/1000\n",
            "221/221 [==============================] - 0s 2ms/step - loss: 0.3734 - accuracy: 0.8234\n",
            "Epoch 29/1000\n",
            "221/221 [==============================] - 1s 2ms/step - loss: 0.3718 - accuracy: 0.8282\n",
            "Epoch 30/1000\n",
            "221/221 [==============================] - 0s 2ms/step - loss: 0.3728 - accuracy: 0.8256\n",
            "Epoch 31/1000\n",
            "221/221 [==============================] - 0s 2ms/step - loss: 0.3713 - accuracy: 0.8269\n",
            "Epoch 32/1000\n",
            "221/221 [==============================] - 1s 2ms/step - loss: 0.3714 - accuracy: 0.8249\n",
            "Epoch 33/1000\n",
            "221/221 [==============================] - 1s 2ms/step - loss: 0.3716 - accuracy: 0.8264\n",
            "Epoch 34/1000\n",
            "221/221 [==============================] - 1s 2ms/step - loss: 0.3704 - accuracy: 0.8281\n",
            "Epoch 35/1000\n",
            "221/221 [==============================] - 0s 2ms/step - loss: 0.3708 - accuracy: 0.8295\n",
            "Epoch 36/1000\n",
            "221/221 [==============================] - 0s 2ms/step - loss: 0.3701 - accuracy: 0.8279\n",
            "Epoch 37/1000\n",
            "221/221 [==============================] - 0s 2ms/step - loss: 0.3695 - accuracy: 0.8271\n",
            "Epoch 38/1000\n",
            "221/221 [==============================] - 1s 2ms/step - loss: 0.3696 - accuracy: 0.8269\n",
            "Epoch 39/1000\n",
            "221/221 [==============================] - 0s 2ms/step - loss: 0.3698 - accuracy: 0.8308\n",
            "Epoch 40/1000\n",
            "221/221 [==============================] - 0s 2ms/step - loss: 0.3688 - accuracy: 0.8303\n",
            "Epoch 41/1000\n",
            "221/221 [==============================] - 0s 2ms/step - loss: 0.3670 - accuracy: 0.8283\n",
            "Epoch 42/1000\n",
            "221/221 [==============================] - 1s 2ms/step - loss: 0.3681 - accuracy: 0.8283\n",
            "Epoch 43/1000\n",
            "221/221 [==============================] - 1s 2ms/step - loss: 0.3672 - accuracy: 0.8289\n",
            "Epoch 44/1000\n",
            "221/221 [==============================] - 1s 2ms/step - loss: 0.3667 - accuracy: 0.8298\n",
            "Epoch 45/1000\n",
            "221/221 [==============================] - 1s 2ms/step - loss: 0.3670 - accuracy: 0.8296\n",
            "Epoch 46/1000\n",
            "221/221 [==============================] - 0s 2ms/step - loss: 0.3657 - accuracy: 0.8323\n",
            "Epoch 47/1000\n",
            "221/221 [==============================] - 0s 2ms/step - loss: 0.3655 - accuracy: 0.8332\n",
            "Epoch 48/1000\n",
            "221/221 [==============================] - 1s 2ms/step - loss: 0.3654 - accuracy: 0.8298\n",
            "Epoch 49/1000\n",
            "221/221 [==============================] - 0s 2ms/step - loss: 0.3653 - accuracy: 0.8306\n",
            "Epoch 50/1000\n",
            "221/221 [==============================] - 1s 2ms/step - loss: 0.3654 - accuracy: 0.8312\n",
            "Epoch 51/1000\n",
            "221/221 [==============================] - 0s 2ms/step - loss: 0.3643 - accuracy: 0.8313\n",
            "Epoch 52/1000\n",
            "221/221 [==============================] - 0s 2ms/step - loss: 0.3649 - accuracy: 0.8299\n",
            "Epoch 53/1000\n",
            "221/221 [==============================] - 0s 2ms/step - loss: 0.3641 - accuracy: 0.8303\n",
            "Epoch 54/1000\n",
            "221/221 [==============================] - 1s 2ms/step - loss: 0.3649 - accuracy: 0.8320\n",
            "Epoch 55/1000\n",
            "221/221 [==============================] - 1s 2ms/step - loss: 0.3635 - accuracy: 0.8303\n",
            "Epoch 56/1000\n",
            "221/221 [==============================] - 1s 2ms/step - loss: 0.3631 - accuracy: 0.8296\n",
            "Epoch 57/1000\n",
            "221/221 [==============================] - 1s 2ms/step - loss: 0.3620 - accuracy: 0.8303\n",
            "Epoch 58/1000\n",
            "221/221 [==============================] - 1s 2ms/step - loss: 0.3615 - accuracy: 0.8320\n",
            "Epoch 59/1000\n",
            "221/221 [==============================] - 1s 2ms/step - loss: 0.3621 - accuracy: 0.8312\n",
            "Epoch 60/1000\n",
            "221/221 [==============================] - 1s 2ms/step - loss: 0.3606 - accuracy: 0.8316\n",
            "Epoch 61/1000\n",
            "221/221 [==============================] - 1s 2ms/step - loss: 0.3612 - accuracy: 0.8323\n",
            "Epoch 62/1000\n",
            "221/221 [==============================] - 1s 2ms/step - loss: 0.3599 - accuracy: 0.8349\n",
            "Epoch 63/1000\n",
            "221/221 [==============================] - 1s 2ms/step - loss: 0.3613 - accuracy: 0.8344\n",
            "Epoch 64/1000\n",
            "221/221 [==============================] - 1s 2ms/step - loss: 0.3599 - accuracy: 0.8332\n",
            "Epoch 65/1000\n",
            "221/221 [==============================] - 1s 2ms/step - loss: 0.3605 - accuracy: 0.8322\n",
            "Epoch 66/1000\n",
            "221/221 [==============================] - 1s 2ms/step - loss: 0.3585 - accuracy: 0.8344\n",
            "Epoch 67/1000\n",
            "221/221 [==============================] - 1s 2ms/step - loss: 0.3605 - accuracy: 0.8315\n",
            "Epoch 68/1000\n",
            "221/221 [==============================] - 1s 2ms/step - loss: 0.3596 - accuracy: 0.8366\n",
            "Epoch 69/1000\n",
            "221/221 [==============================] - 0s 2ms/step - loss: 0.3590 - accuracy: 0.8312\n",
            "Epoch 70/1000\n",
            "221/221 [==============================] - 0s 2ms/step - loss: 0.3579 - accuracy: 0.8336\n",
            "Epoch 71/1000\n",
            "221/221 [==============================] - 1s 2ms/step - loss: 0.3584 - accuracy: 0.8343\n",
            "Epoch 72/1000\n",
            "221/221 [==============================] - 0s 2ms/step - loss: 0.3573 - accuracy: 0.8336\n",
            "Epoch 73/1000\n",
            "221/221 [==============================] - 0s 2ms/step - loss: 0.3575 - accuracy: 0.8349\n",
            "Epoch 74/1000\n",
            "221/221 [==============================] - 0s 2ms/step - loss: 0.3580 - accuracy: 0.8343\n",
            "Epoch 75/1000\n",
            "221/221 [==============================] - 1s 2ms/step - loss: 0.3589 - accuracy: 0.8333\n",
            "Epoch 76/1000\n",
            "221/221 [==============================] - 1s 2ms/step - loss: 0.3574 - accuracy: 0.8373\n",
            "Epoch 77/1000\n",
            "221/221 [==============================] - 1s 2ms/step - loss: 0.3569 - accuracy: 0.8327\n",
            "Epoch 78/1000\n",
            "221/221 [==============================] - 0s 2ms/step - loss: 0.3572 - accuracy: 0.8353\n",
            "Epoch 79/1000\n",
            "221/221 [==============================] - 0s 2ms/step - loss: 0.3571 - accuracy: 0.8353\n",
            "Epoch 80/1000\n",
            "221/221 [==============================] - 0s 2ms/step - loss: 0.3562 - accuracy: 0.8364\n",
            "Epoch 81/1000\n",
            "221/221 [==============================] - 1s 2ms/step - loss: 0.3553 - accuracy: 0.8344\n",
            "Epoch 82/1000\n",
            "221/221 [==============================] - 1s 2ms/step - loss: 0.3562 - accuracy: 0.8374\n",
            "Epoch 83/1000\n",
            "221/221 [==============================] - 0s 2ms/step - loss: 0.3546 - accuracy: 0.8333\n",
            "Epoch 84/1000\n",
            "221/221 [==============================] - 1s 2ms/step - loss: 0.3561 - accuracy: 0.8335\n",
            "Epoch 85/1000\n",
            "221/221 [==============================] - 1s 2ms/step - loss: 0.3544 - accuracy: 0.8347\n",
            "Epoch 86/1000\n",
            "221/221 [==============================] - 1s 2ms/step - loss: 0.3550 - accuracy: 0.8350\n",
            "Epoch 87/1000\n",
            "221/221 [==============================] - 0s 2ms/step - loss: 0.3545 - accuracy: 0.8370\n",
            "Epoch 88/1000\n",
            "221/221 [==============================] - 0s 2ms/step - loss: 0.3538 - accuracy: 0.8369\n",
            "Epoch 89/1000\n",
            "221/221 [==============================] - 0s 2ms/step - loss: 0.3527 - accuracy: 0.8371\n",
            "Epoch 90/1000\n",
            "221/221 [==============================] - 0s 2ms/step - loss: 0.3541 - accuracy: 0.8363\n",
            "Epoch 91/1000\n",
            "221/221 [==============================] - 1s 2ms/step - loss: 0.3519 - accuracy: 0.8349\n",
            "Epoch 92/1000\n",
            "221/221 [==============================] - 0s 2ms/step - loss: 0.3522 - accuracy: 0.8343\n",
            "Epoch 93/1000\n",
            "221/221 [==============================] - 0s 2ms/step - loss: 0.3527 - accuracy: 0.8344\n",
            "Epoch 94/1000\n",
            "221/221 [==============================] - 0s 2ms/step - loss: 0.3524 - accuracy: 0.8379\n",
            "Epoch 95/1000\n",
            "221/221 [==============================] - 0s 2ms/step - loss: 0.3523 - accuracy: 0.8370\n",
            "Epoch 96/1000\n",
            "221/221 [==============================] - 1s 2ms/step - loss: 0.3506 - accuracy: 0.8411\n",
            "Epoch 97/1000\n",
            "221/221 [==============================] - 0s 2ms/step - loss: 0.3510 - accuracy: 0.8353\n",
            "Epoch 98/1000\n",
            "221/221 [==============================] - 0s 2ms/step - loss: 0.3532 - accuracy: 0.8363\n",
            "Epoch 99/1000\n",
            "221/221 [==============================] - 0s 2ms/step - loss: 0.3522 - accuracy: 0.8340\n",
            "Epoch 100/1000\n",
            "221/221 [==============================] - 1s 2ms/step - loss: 0.3509 - accuracy: 0.8374\n",
            "Epoch 101/1000\n",
            "221/221 [==============================] - 1s 2ms/step - loss: 0.3505 - accuracy: 0.8359\n",
            "Epoch 102/1000\n",
            "221/221 [==============================] - 1s 2ms/step - loss: 0.3499 - accuracy: 0.8388\n",
            "Epoch 103/1000\n",
            "221/221 [==============================] - 0s 2ms/step - loss: 0.3505 - accuracy: 0.8346\n",
            "Epoch 104/1000\n",
            "221/221 [==============================] - 1s 2ms/step - loss: 0.3508 - accuracy: 0.8363\n",
            "Epoch 105/1000\n",
            "221/221 [==============================] - 1s 2ms/step - loss: 0.3498 - accuracy: 0.8354\n",
            "Epoch 106/1000\n",
            "221/221 [==============================] - 0s 2ms/step - loss: 0.3485 - accuracy: 0.8384\n",
            "Epoch 107/1000\n",
            "221/221 [==============================] - 0s 2ms/step - loss: 0.3494 - accuracy: 0.8417\n",
            "Epoch 108/1000\n",
            "221/221 [==============================] - 0s 2ms/step - loss: 0.3477 - accuracy: 0.8417\n",
            "Epoch 109/1000\n",
            "221/221 [==============================] - 0s 2ms/step - loss: 0.3486 - accuracy: 0.8370\n",
            "Epoch 110/1000\n",
            "221/221 [==============================] - 0s 2ms/step - loss: 0.3490 - accuracy: 0.8424\n",
            "Epoch 111/1000\n",
            "221/221 [==============================] - 0s 2ms/step - loss: 0.3481 - accuracy: 0.8396\n",
            "Epoch 112/1000\n",
            "221/221 [==============================] - 0s 2ms/step - loss: 0.3477 - accuracy: 0.8381\n",
            "Epoch 113/1000\n",
            "221/221 [==============================] - 0s 2ms/step - loss: 0.3480 - accuracy: 0.8387\n"
          ],
          "name": "stdout"
        },
        {
          "output_type": "execute_result",
          "data": {
            "text/plain": [
              "<tensorflow.python.keras.callbacks.History at 0x7f4c09487a20>"
            ]
          },
          "metadata": {
            "tags": []
          },
          "execution_count": 21
        }
      ]
    },
    {
      "cell_type": "markdown",
      "metadata": {
        "id": "CwF3gehrof7a",
        "colab_type": "text"
      },
      "source": [
        "Hyperparameter tune (at least) the following parameters:\n",
        "- batch_size\n",
        "- training epochs\n",
        "- optimizer\n",
        "- learning rate (if applicable to optimizer)\n",
        "- momentum (if applicable to optimizer)\n",
        "- activation functions\n",
        "- network weight initialization\n",
        "- dropout regularization\n",
        "- number of neurons in the hidden layer\n",
        "\n",
        "You must use Grid Search and Cross Validation for your initial pass of the above hyperparameters"
      ]
    },
    {
      "cell_type": "code",
      "metadata": {
        "id": "MsnwjwryoX8Q",
        "colab_type": "code",
        "colab": {}
      },
      "source": [
        "#must do a train test split since this is a cross validation.  \n",
        "#need a validation set\n",
        "from sklearn.model_selection import train_test_split\n",
        "\n",
        "X_train, X_test, y_train, y_test = train_test_split(X,\n",
        "                                                    y,\n",
        "                                                    test_size=0.25,\n",
        "                                                    random_state=42,\n",
        "                                                    stratify=y)"
      ],
      "execution_count": 0,
      "outputs": []
    },
    {
      "cell_type": "code",
      "metadata": {
        "id": "yBZiKeZj1EDd",
        "colab_type": "code",
        "colab": {}
      },
      "source": [
        "import numpy as np\n",
        "from sklearn.model_selection import GridSearchCV\n",
        "from tensorflow.keras.wrappers.scikit_learn import KerasClassifier\n",
        "\n",
        "seed = 42\n",
        "np.random.seed(seed)\n",
        "\n",
        "# Function to create model, required for KerasClassifier\n",
        "def create_model():\n",
        "    # Create Model\n",
        "    model = Sequential()\n",
        "    model.add(Dense(64, activation ='relu', input_shape=(X_train.shape[1],)))\n",
        "    model.add(Dense(1, activation = 'sigmoid'))\n",
        "    \n",
        "    # Compile the model\n",
        "    model.compile(optimizer='adam', loss='binary_crossentropy', metrics=['accuracy'])\n",
        "    return model\n",
        "\n",
        "# Create the model\n",
        "model = KerasClassifier(build_fn = create_model, verbose = 0)\n",
        "\n",
        "# Define the grid search parameters\n",
        "param_grid = {'epochs': [5, 10, 20, 50]}\n",
        "\n",
        "# Create the GridSearch\n",
        "grid = GridSearchCV(estimator=model, param_grid=param_grid, n_jobs=1)"
      ],
      "execution_count": 0,
      "outputs": []
    },
    {
      "cell_type": "code",
      "metadata": {
        "id": "vVpQ0gvl2-dX",
        "colab_type": "code",
        "colab": {
          "base_uri": "https://localhost:8080/",
          "height": 104
        },
        "outputId": "a80f5ae1-3a73-43fd-91d8-b3b68c814903"
      },
      "source": [
        "grid_result = grid.fit(X_train, y_train)\n",
        "\n",
        "# Report results\n",
        "print(f\"Best: {grid_result.best_score_} using {grid_result.best_params_}\")\n",
        "means = grid_result.cv_results_['mean_test_score']\n",
        "stds = grid_result.cv_results_['std_test_score']\n",
        "params = grid_result.cv_results_['params']\n",
        "for mean, stdev, param in zip(means, stds, params):\n",
        "    print(f\"Means: {mean}, Stdev: {stdev} with: {param}\") "
      ],
      "execution_count": 55,
      "outputs": [
        {
          "output_type": "stream",
          "text": [
            "Best: 0.8061315655708313 using {'epochs': 20}\n",
            "Means: 0.7996932387351989, Stdev: 0.012058607171356728 with: {'epochs': 5}\n",
            "Means: 0.7989365696907044, Stdev: 0.010235137330197059 with: {'epochs': 10}\n",
            "Means: 0.8061315655708313, Stdev: 0.011005999485431999 with: {'epochs': 20}\n",
            "Means: 0.798748779296875, Stdev: 0.008624943021203186 with: {'epochs': 50}\n"
          ],
          "name": "stdout"
        }
      ]
    },
    {
      "cell_type": "code",
      "metadata": {
        "id": "mB0tFAcm4N9S",
        "colab_type": "code",
        "colab": {
          "base_uri": "https://localhost:8080/",
          "height": 311
        },
        "outputId": "eab9a4a3-3712-4a9d-d00e-35207964c5c6"
      },
      "source": [
        "from tensorflow.keras.optimizers import SGD\n",
        "\n",
        "\n",
        "\n",
        "\n",
        "# Function to create model, required for KerasClassifier\n",
        "def create_model(learning_rate = 0.01, momentum = 0.0):\n",
        "    sgd = SGD(learning_rate=learning_rate, momentum = momentum)\n",
        "    # Create Model\n",
        "    model = Sequential()\n",
        "    model.add(Dense(64, activation ='relu', input_shape=(X_train.shape[1],)))\n",
        "    model.add(Dense(1, activation = 'sigmoid'))\n",
        "    \n",
        "    # Compile the model\n",
        "    model.compile(optimizer=sgd, loss='binary_crossentropy', metrics=['accuracy'])\n",
        "    return model\n",
        "\n",
        "# Create the model\n",
        "model = KerasClassifier(build_fn = create_model, verbose = 0)\n",
        "\n",
        "# Define the grid search parameters\n",
        "param_grid = {'epochs': [50],\n",
        "              'learning_rate': [0.001, 0.01, 0.1, 0.2],\n",
        "              'momentum': [0, 0.5, 0.9, 0.99]}\n",
        "\n",
        "# Create the GridSearch\n",
        "grid = GridSearchCV(estimator=model, param_grid=param_grid, n_jobs=-1)\n",
        "grid_result = grid.fit(X_train, y_train)\n",
        "\n",
        "# Report the results\n",
        "print(f\"Best: {grid_result.best_score_} using {grid_result.best_params_}\")\n",
        "means = grid_result.cv_results_['mean_test_score']\n",
        "stds = grid_result.cv_results_['std_test_score']\n",
        "params = grid_result.cv_results_['params']\n",
        "for mean, stdev, param in zip(means, stds, params):\n",
        "    print(f\"Means: {mean}, Stdev: {stdev} with: {param}\")"
      ],
      "execution_count": 56,
      "outputs": [
        {
          "output_type": "stream",
          "text": [
            "Best: 0.8019650697708129 using {'epochs': 50, 'learning_rate': 0.01, 'momentum': 0}\n",
            "Means: 0.7834094882011413, Stdev: 0.01740783745076631 with: {'epochs': 50, 'learning_rate': 0.001, 'momentum': 0}\n",
            "Means: 0.7983662366867066, Stdev: 0.014884521946921412 with: {'epochs': 50, 'learning_rate': 0.001, 'momentum': 0.5}\n",
            "Means: 0.8004488587379456, Stdev: 0.016345364908540376 with: {'epochs': 50, 'learning_rate': 0.001, 'momentum': 0.9}\n",
            "Means: 0.7989338755607605, Stdev: 0.014027705586449078 with: {'epochs': 50, 'learning_rate': 0.001, 'momentum': 0.99}\n",
            "Means: 0.8019650697708129, Stdev: 0.01343673111796615 with: {'epochs': 50, 'learning_rate': 0.01, 'momentum': 0}\n",
            "Means: 0.7985574126243591, Stdev: 0.011629203659229613 with: {'epochs': 50, 'learning_rate': 0.01, 'momentum': 0.5}\n",
            "Means: 0.7949610829353333, Stdev: 0.008797384115278023 with: {'epochs': 50, 'learning_rate': 0.01, 'momentum': 0.9}\n",
            "Means: 0.7862514734268189, Stdev: 0.014640618212242768 with: {'epochs': 50, 'learning_rate': 0.01, 'momentum': 0.99}\n",
            "Means: 0.7938236594200134, Stdev: 0.010220132638928361 with: {'epochs': 50, 'learning_rate': 0.1, 'momentum': 0}\n",
            "Means: 0.7798097610473633, Stdev: 0.026338400330424158 with: {'epochs': 50, 'learning_rate': 0.1, 'momentum': 0.5}\n",
            "Means: 0.7775416851043702, Stdev: 0.02044627111985721 with: {'epochs': 50, 'learning_rate': 0.1, 'momentum': 0.9}\n",
            "Means: 0.7343793749809265, Stdev: 0.013588445597720872 with: {'epochs': 50, 'learning_rate': 0.1, 'momentum': 0.99}\n",
            "Means: 0.7796287536621094, Stdev: 0.009900531963705014 with: {'epochs': 50, 'learning_rate': 0.2, 'momentum': 0}\n",
            "Means: 0.7841681361198425, Stdev: 0.014250058174265385 with: {'epochs': 50, 'learning_rate': 0.2, 'momentum': 0.5}\n",
            "Means: 0.7659990310668945, Stdev: 0.017707531530051973 with: {'epochs': 50, 'learning_rate': 0.2, 'momentum': 0.9}\n",
            "Means: 0.6512352526187897, Stdev: 0.17982738672892515 with: {'epochs': 50, 'learning_rate': 0.2, 'momentum': 0.99}\n"
          ],
          "name": "stdout"
        }
      ]
    },
    {
      "cell_type": "markdown",
      "metadata": {
        "colab_type": "text",
        "id": "FfZRtJ7MCN3x"
      },
      "source": [
        "## Stretch Goals:\n",
        "\n",
        "- Try to implement Random Search Hyperparameter Tuning on this dataset\n",
        "- Try to implement Bayesian Optimiation tuning on this dataset using hyperas or hyperopt (if you're brave)\n",
        "- Practice hyperparameter tuning other datasets that we have looked at. How high can you get MNIST? Above 99%?\n",
        "- Study for the Sprint Challenge\n",
        " - Can you implement both perceptron and MLP models from scratch with forward and backpropagation?\n",
        " - Can you implement both perceptron and MLP models in keras and tune their hyperparameters with cross validation?"
      ]
    },
    {
      "cell_type": "code",
      "metadata": {
        "id": "thdCB2AR6Nvi",
        "colab_type": "code",
        "colab": {}
      },
      "source": [
        ""
      ],
      "execution_count": 0,
      "outputs": []
    },
    {
      "cell_type": "code",
      "metadata": {
        "id": "i564A8kp6KhW",
        "colab_type": "code",
        "colab": {}
      },
      "source": [
        ""
      ],
      "execution_count": 0,
      "outputs": []
    }
  ]
}